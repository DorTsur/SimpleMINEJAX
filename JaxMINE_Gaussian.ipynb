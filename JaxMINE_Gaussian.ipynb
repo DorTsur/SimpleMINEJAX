{
  "nbformat": 4,
  "nbformat_minor": 0,
  "metadata": {
    "colab": {
      "provenance": []
    },
    "kernelspec": {
      "name": "python3",
      "display_name": "Python 3"
    },
    "language_info": {
      "name": "python"
    }
  },
  "cells": [
    {
      "cell_type": "markdown",
      "source": [
        "Implementation of the mutual information neural estimator (MINE) in JAX.\n",
        "\n",
        "The MINE estimates the mutual information between a pair of jointly distributed vairables $(X,Y)∼P_{XY}$ by leveraging the Donsker-Varadhan variational representation, which is transferred to an optimization problem over neural networks by estimating expectations with sample means.\n",
        "\n",
        "The MINE optimization problem is given by ($\\bar{Y}$ is a saple of the marginal)\n",
        "\n",
        "$\\hat{I}(X^n,Y^n) = \\sup_{f_{\\theta}} \\frac{1}{n}\\sum_{i=1}^n f_{\\theta}(X_i,Y_i) - \\log \\left( \\frac{1}{n} \\sum_{i=1}^n \\exp(f_{\\theta}(X_i,\\bar{Y}_i)) \\right) $"
      ],
      "metadata": {
        "id": "ngBKDJIVsYXL"
      }
    },
    {
      "cell_type": "code",
      "execution_count": 60,
      "metadata": {
        "id": "Hwi0-thxhWbC"
      },
      "outputs": [],
      "source": [
        "import jax\n",
        "import jax.numpy as jnpx\n",
        "import flax.linen as nn\n",
        "from jax.random import PRNGKey, multivariate_normal\n",
        "import optax\n",
        "from jax import grad, jit\n",
        "from jax.random import split\n",
        "from flax.training import train_state\n",
        "import math\n",
        "import matplotlib.pyplot as plt"
      ]
    },
    {
      "cell_type": "markdown",
      "source": [
        "Generate a $d$-dimensional correlated Gaussian dataet with correlation coefficient $\\rho$. Gaussians are cenetered."
      ],
      "metadata": {
        "id": "k06V8MNasd4Y"
      }
    },
    {
      "cell_type": "code",
      "source": [
        "def create_gaussian_dataset_d(rho, d, num_samples, key):\n",
        "    # Mean vector for the 2d-dimensional multivariate Gaussian\n",
        "    mean = jnp.zeros(2 * d)\n",
        "\n",
        "    # Covariance matrix\n",
        "    identity_d = jnp.eye(d)\n",
        "    cross_corr = rho * jnp.eye(d)  # Correlation between X and Y\n",
        "    covariance = jnp.block([\n",
        "        [identity_d, cross_corr],  # Covariance between X and Y\n",
        "        [cross_corr, identity_d]   # Covariance between Y and X\n",
        "    ])\n",
        "\n",
        "    # Generate samples\n",
        "    samples = multivariate_normal(key, mean, covariance, shape=(num_samples,))\n",
        "\n",
        "    # Split samples into X and Y\n",
        "    x = samples[:, :d]\n",
        "    y = samples[:, d:]\n",
        "    return x, y"
      ],
      "metadata": {
        "id": "CyO3qRMph31l"
      },
      "execution_count": 12,
      "outputs": []
    },
    {
      "cell_type": "markdown",
      "source": [
        "Generate a simple shallow ReLU MLP for the MINE. The MINE network maps the cancatenated pair $(x,y)$ to a one-dimensional output, which is, optimally, an esimate of the LLR $f_{\\theta}^\\star = \\frac{P_{XY}(x,y)}{P_X(x)P_Y(y)}$."
      ],
      "metadata": {
        "id": "WAnPsppWssye"
      }
    },
    {
      "cell_type": "code",
      "source": [
        "class MINE(nn.Module):\n",
        "    \"\"\"\n",
        "    A simple MINE network with ReLU activations.\n",
        "\n",
        "    Attributes:\n",
        "        hidden_dim (int): Number of hidden units in each layer.\n",
        "        output_dim (int): Dimension of the output, should be 1 for MINE.\n",
        "        num_layers (int): Number of hidden layers.\n",
        "    \"\"\"\n",
        "    hidden_dim: int\n",
        "    output_dim: int = 1\n",
        "    num_layers: int = 2\n",
        "\n",
        "    @nn.compact\n",
        "    def __call__(self, inputs):\n",
        "        x = inputs\n",
        "        for _ in range(self.num_layers):\n",
        "            x = nn.Dense(self.hidden_dim)(x)\n",
        "            x = nn.relu(x)\n",
        "        x = nn.Dense(self.output_dim)(x)\n",
        "        return x\n",
        "\n",
        "def mine_loss(params, apply_fn, x, y, rng):\n",
        "    \"\"\"\n",
        "    Computes the MINE loss based on the Donsker-Varadhan representation.\n",
        "\n",
        "    Parameters:\n",
        "        params: Model parameters.\n",
        "        apply_fn: Function to apply the MINE model.\n",
        "        x, y: Input Gaussian vectors (x and y are d-dimensional).\n",
        "        rng: Random key for shuffling.\n",
        "\n",
        "    Returns:\n",
        "        loss: The MINE loss, a lower bound on mutual information.\n",
        "    \"\"\"\n",
        "    batch_size = x.shape[0]\n",
        "    inputs = jnp.concatenate([x, y], axis=-1)  # Positive pairs: (x, y)\n",
        "\n",
        "    # Shuffle y for negative samples\n",
        "    y_shuffled = jax.random.permutation(rng, y)\n",
        "    neg_inputs = jnp.concatenate([x, y_shuffled], axis=-1)  # Negative pairs: (x, y_shuffled)\n",
        "\n",
        "    # Compute T(x, y) and T(x, y_shuffled)\n",
        "    # The fix: Pass params directly instead of nesting it in another dictionary\n",
        "    t_xy = apply_fn(params, inputs).squeeze()\n",
        "    t_x_y_shuffled = apply_fn(params, neg_inputs).squeeze()\n",
        "\n",
        "    # Donsker-Varadhan representation\n",
        "    term_1 = jnp.mean(t_xy)\n",
        "    term_2 = jnp.log(jnp.mean(jnp.exp(t_x_y_shuffled)))\n",
        "    loss = -(term_1 - term_2)\n",
        "    return loss\n",
        "\n",
        "@jit\n",
        "def train_step(state, x, y, rng):\n",
        "    \"\"\"\n",
        "    Perform a single training step for the MINE model.\n",
        "\n",
        "    Parameters:\n",
        "        state: Train state containing the optimizer and parameters.\n",
        "        x, y: Input Gaussian vectors.\n",
        "        rng: Random key for negative sample generation.\n",
        "\n",
        "    Returns:\n",
        "        Updated state and loss value.\n",
        "    \"\"\"\n",
        "    def loss_fn(params):\n",
        "        return mine_loss(params, state.apply_fn, x, y, rng)\n",
        "\n",
        "    loss, grads = jax.value_and_grad(loss_fn)(state.params)\n",
        "    state = state.apply_gradients(grads=grads)\n",
        "    return state, loss"
      ],
      "metadata": {
        "id": "uUs2xIWxjaau"
      },
      "execution_count": 51,
      "outputs": []
    },
    {
      "cell_type": "code",
      "source": [
        "# Dataset parameters\n",
        "rho = 0.7\n",
        "d = 3\n",
        "num_samples = 10000\n",
        "batch_size = 64\n",
        "key = PRNGKey(0)\n",
        "num_epochs = 100\n",
        "\n",
        "# Generate dataset\n",
        "# x, y = create_gaussian_dataset(rho, num_samples, key)\n",
        "x, y = create_gaussian_dataset_d(rho, d, num_samples, key)\n",
        "train_key, shuffle_key = split(key)\n",
        "\n",
        "# Model setup\n",
        "model = MINE(hidden_dim=30, num_layers=3)\n",
        "x_sample = jnp.ones((batch_size, 2 * d))  # Example input for initialization\n",
        "params = model.init(train_key, x_sample)\n",
        "\n",
        "# Optimizer and state\n",
        "optimizer = optax.adam(learning_rate=5e-5)\n",
        "state = train_state.TrainState.create(apply_fn=model.apply, params=params, tx=optimizer)\n",
        "\n",
        "num_batches = math.ceil(num_samples / batch_size)\n",
        "\n",
        "loss = []\n",
        "\n",
        "for epoch in range(num_epochs):\n",
        "    # Shuffle dataset at the beginning of each epoch\n",
        "    shuffle_key, subkey = split(shuffle_key)\n",
        "    perm = jax.random.permutation(subkey, num_samples)\n",
        "    x_shuffled = x[perm]\n",
        "    y_shuffled = y[perm]\n",
        "\n",
        "    epoch_loss = 0.0  # Accumulate loss over the epoch\n",
        "\n",
        "    for i in range(num_batches):\n",
        "        # Mini-batch sampling\n",
        "        start_idx = i * batch_size\n",
        "        end_idx = min(start_idx + batch_size, num_samples)\n",
        "        x_batch = x_shuffled[start_idx:end_idx]\n",
        "        y_batch = y_shuffled[start_idx:end_idx]\n",
        "\n",
        "        # Training step\n",
        "        step_rng, shuffle_key = split(shuffle_key)\n",
        "        state, batch_loss = train_step(state, x_batch, y_batch, step_rng)\n",
        "        epoch_loss -= batch_loss * (end_idx - start_idx)  # Weighted sum for average loss\n",
        "\n",
        "    # Compute average loss for the epoch\n",
        "    epoch_loss /= num_samples\n",
        "\n",
        "    loss.append(epoch_loss)\n",
        "\n",
        "    # Print epoch loss\n",
        "    # if epoch % 50 == 0:\n",
        "    print(f\"Epoch {epoch}, Average Loss: {epoch_loss:.4f}\")\n",
        "\n",
        "print(\"Training complete!\")"
      ],
      "metadata": {
        "colab": {
          "base_uri": "https://localhost:8080/"
        },
        "id": "GoPAiyqvlVcu",
        "outputId": "846a3387-f471-4277-ceb4-798eeb89165e"
      },
      "execution_count": 79,
      "outputs": [
        {
          "output_type": "stream",
          "name": "stdout",
          "text": [
            "Epoch 0, Average Loss: 0.0325\n",
            "Epoch 1, Average Loss: 0.0824\n",
            "Epoch 2, Average Loss: 0.1323\n",
            "Epoch 3, Average Loss: 0.1895\n",
            "Epoch 4, Average Loss: 0.2649\n",
            "Epoch 5, Average Loss: 0.3478\n",
            "Epoch 6, Average Loss: 0.4233\n",
            "Epoch 7, Average Loss: 0.5112\n",
            "Epoch 8, Average Loss: 0.5750\n",
            "Epoch 9, Average Loss: 0.6392\n",
            "Epoch 10, Average Loss: 0.6890\n",
            "Epoch 11, Average Loss: 0.7283\n",
            "Epoch 12, Average Loss: 0.7342\n",
            "Epoch 13, Average Loss: 0.7799\n",
            "Epoch 14, Average Loss: 0.8115\n",
            "Epoch 15, Average Loss: 0.7928\n",
            "Epoch 16, Average Loss: 0.8162\n",
            "Epoch 17, Average Loss: 0.8410\n",
            "Epoch 18, Average Loss: 0.8477\n",
            "Epoch 19, Average Loss: 0.8667\n",
            "Epoch 20, Average Loss: 0.8500\n",
            "Epoch 21, Average Loss: 0.8465\n",
            "Epoch 22, Average Loss: 0.8593\n",
            "Epoch 23, Average Loss: 0.8533\n",
            "Epoch 24, Average Loss: 0.8437\n",
            "Epoch 25, Average Loss: 0.8716\n",
            "Epoch 26, Average Loss: 0.8863\n",
            "Epoch 27, Average Loss: 0.8728\n",
            "Epoch 28, Average Loss: 0.8969\n",
            "Epoch 29, Average Loss: 0.8819\n",
            "Epoch 30, Average Loss: 0.8837\n",
            "Epoch 31, Average Loss: 0.9181\n",
            "Epoch 32, Average Loss: 0.9069\n",
            "Epoch 33, Average Loss: 0.8635\n",
            "Epoch 34, Average Loss: 0.8732\n",
            "Epoch 35, Average Loss: 0.8637\n",
            "Epoch 36, Average Loss: 0.8811\n",
            "Epoch 37, Average Loss: 0.8810\n",
            "Epoch 38, Average Loss: 0.8764\n",
            "Epoch 39, Average Loss: 0.8737\n",
            "Epoch 40, Average Loss: 0.8894\n",
            "Epoch 41, Average Loss: 0.8560\n",
            "Epoch 42, Average Loss: 0.8518\n",
            "Epoch 43, Average Loss: 0.8884\n",
            "Epoch 44, Average Loss: 0.9004\n",
            "Epoch 45, Average Loss: 0.8634\n",
            "Epoch 46, Average Loss: 0.8834\n",
            "Epoch 47, Average Loss: 0.8896\n",
            "Epoch 48, Average Loss: 0.8502\n",
            "Epoch 49, Average Loss: 0.8595\n",
            "Epoch 50, Average Loss: 0.9117\n",
            "Epoch 51, Average Loss: 0.8918\n",
            "Epoch 52, Average Loss: 0.8769\n",
            "Epoch 53, Average Loss: 0.9008\n",
            "Epoch 54, Average Loss: 0.9169\n",
            "Epoch 55, Average Loss: 0.9036\n",
            "Epoch 56, Average Loss: 0.9306\n",
            "Epoch 57, Average Loss: 0.8777\n",
            "Epoch 58, Average Loss: 0.8789\n",
            "Epoch 59, Average Loss: 0.8988\n",
            "Epoch 60, Average Loss: 0.8825\n",
            "Epoch 61, Average Loss: 0.8888\n",
            "Epoch 62, Average Loss: 0.9253\n",
            "Epoch 63, Average Loss: 0.8950\n",
            "Epoch 64, Average Loss: 0.9090\n",
            "Epoch 65, Average Loss: 0.8951\n",
            "Epoch 66, Average Loss: 0.8657\n",
            "Epoch 67, Average Loss: 0.8948\n",
            "Epoch 68, Average Loss: 0.9135\n",
            "Epoch 69, Average Loss: 0.9047\n",
            "Epoch 70, Average Loss: 0.9017\n",
            "Epoch 71, Average Loss: 0.9123\n",
            "Epoch 72, Average Loss: 0.8688\n",
            "Epoch 73, Average Loss: 0.9209\n",
            "Epoch 74, Average Loss: 0.9385\n",
            "Epoch 75, Average Loss: 0.8894\n",
            "Epoch 76, Average Loss: 0.9161\n",
            "Epoch 77, Average Loss: 0.8837\n",
            "Epoch 78, Average Loss: 0.8980\n",
            "Epoch 79, Average Loss: 0.9092\n",
            "Epoch 80, Average Loss: 0.9046\n",
            "Epoch 81, Average Loss: 0.9314\n",
            "Epoch 82, Average Loss: 0.9266\n",
            "Epoch 83, Average Loss: 0.8973\n",
            "Epoch 84, Average Loss: 0.9195\n",
            "Epoch 85, Average Loss: 0.8896\n",
            "Epoch 86, Average Loss: 0.8936\n",
            "Epoch 87, Average Loss: 0.9086\n",
            "Epoch 88, Average Loss: 0.8913\n",
            "Epoch 89, Average Loss: 0.9066\n",
            "Epoch 90, Average Loss: 0.9180\n",
            "Epoch 91, Average Loss: 0.8963\n",
            "Epoch 92, Average Loss: 0.9313\n",
            "Epoch 93, Average Loss: 0.8954\n",
            "Epoch 94, Average Loss: 0.9325\n",
            "Epoch 95, Average Loss: 0.9108\n",
            "Epoch 96, Average Loss: 0.9365\n",
            "Epoch 97, Average Loss: 0.8845\n",
            "Epoch 98, Average Loss: 0.9177\n",
            "Epoch 99, Average Loss: 0.9473\n",
            "Training complete!\n"
          ]
        }
      ]
    },
    {
      "cell_type": "markdown",
      "source": [],
      "metadata": {
        "id": "vxQp2MrosXWB"
      }
    },
    {
      "cell_type": "code",
      "source": [
        "plt.figure(figsize=(8, 6))\n",
        "plt.plot(list(range(num_epochs)), loss, marker=\"o\", linestyle=\"-\")\n",
        "# plt.plot(list(range(num_epochs)), [-0.5 * jnp.log(1 - rho**2)]*len(loss), marker=\"o\", linestyle=\"-\")\n",
        "plt.title(\"Loss vs Epoch\")\n",
        "plt.xlabel(\"Epoch\")\n",
        "plt.ylabel(\"Loss\")\n",
        "plt.grid(True)\n",
        "plt.show()"
      ],
      "metadata": {
        "colab": {
          "base_uri": "https://localhost:8080/",
          "height": 564
        },
        "id": "pY9VpCa5qAqt",
        "outputId": "bd48803e-b313-484f-becb-ec3823d8125d"
      },
      "execution_count": 80,
      "outputs": [
        {
          "output_type": "display_data",
          "data": {
            "text/plain": [
              "<Figure size 800x600 with 1 Axes>"
            ],
            "image/png": "[encoded data removed]"
          },
          "metadata": {}
        }
      ]
    }
  ]
}